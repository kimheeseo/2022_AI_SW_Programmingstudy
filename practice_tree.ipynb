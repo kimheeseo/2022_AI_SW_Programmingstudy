{
  "nbformat": 4,
  "nbformat_minor": 0,
  "metadata": {
    "colab": {
      "name": "practice_tree.ipynb",
      "provenance": [],
      "authorship_tag": "ABX9TyPNSzu3DhQaPhRxD2hFtWDO",
      "include_colab_link": true
    },
    "kernelspec": {
      "name": "python3",
      "display_name": "Python 3"
    },
    "language_info": {
      "name": "python"
    }
  },
  "cells": [
    {
      "cell_type": "markdown",
      "metadata": {
        "id": "view-in-github",
        "colab_type": "text"
      },
      "source": [
        "<a href=\"https://colab.research.google.com/github/kimheeseo/2022_AI_SW_Programmingstudy/blob/main/practice_tree.ipynb\" target=\"_parent\"><img src=\"https://colab.research.google.com/assets/colab-badge.svg\" alt=\"Open In Colab\"/></a>"
      ]
    },
    {
      "cell_type": "code",
      "source": [
        "# libraries\n",
        "import numpy as np\n",
        "import scipy as sp\n",
        "import pandas as pd\n",
        "import matplotlib.pyplot as plt\n",
        "from sklearn.model_selection import train_test_split\n",
        "%matplotlib inline"
      ],
      "metadata": {
        "id": "GHVxwiDJW7Qg"
      },
      "execution_count": 1,
      "outputs": []
    },
    {
      "cell_type": "markdown",
      "source": [
        "# **Classification Tree**"
      ],
      "metadata": {
        "id": "oKi2BYY8W9D3"
      }
    },
    {
      "cell_type": "code",
      "source": [
        "# read data from file\n",
        "df = pd.read_csv('data01_iris.csv')\n",
        "X = df.iloc[:,:-1]\n",
        "Y = df['Species']\n",
        "xtrain, xtest, ytrain, ytest = train_test_split(X,Y,test_size=0.33,random_state=1) "
      ],
      "metadata": {
        "id": "K3-KggmHW_TV"
      },
      "execution_count": 3,
      "outputs": []
    },
    {
      "cell_type": "code",
      "execution_count": null,
      "metadata": {
        "id": "mC2ODz4QWqKn"
      },
      "outputs": [],
      "source": [
        "# classification tree\n",
        "from sklearn.tree import DecisionTreeClassifier\n",
        "clf = DecisionTreeClassifier()\n",
        "clf.fit(xtrain,ytrain)\n",
        "yhat_train = clf.predict(xtrain)\n",
        "yhat_train_prob = clf.predict_proba(xtrain)\n",
        "yhat_test = clf.predict(xtest)\n",
        "yhat_test_prob = clf.predict_proba(xtest)\n",
        "clf.score(xtrain,ytrain)\n",
        "clf.score(xtest,ytest)\n",
        "\n",
        "# make data dirty\n",
        "np.random.seed(0)\n",
        "xtrain2 = xtrain + np.random.randn(np.prod(xtrain.shape)).reshape(90,4)\n",
        "xtest2 = xtest + np.random.randn(np.prod(xtest.shape)).reshape(60,4)\n",
        "\n",
        "# classification tree\n",
        "clf = DecisionTreeClassifier(max_leaf_nodes=None) # change max_leaef_nodes\n",
        "clf.fit(xtrain2,ytrain)\n",
        "clf.score(xtrain2,ytrain)\n",
        "clf.score(xtest2,ytest)\n",
        "\n",
        "# visualization\n",
        "from sklearn.tree import export_graphviz\n",
        "export_graphviz(clf,out_file='tree.dot', max_depth=None,\n",
        "                feature_names=xtrain.columns,\n",
        "                class_names=['setosa','versicolor','virginica'])\n",
        "# to visualize, use http://www.webgraphviz.com/ or other tools"
      ]
    },
    {
      "cell_type": "markdown",
      "source": [
        "# **Regression Tree**"
      ],
      "metadata": {
        "id": "v-tm43kzXPKX"
      }
    },
    {
      "cell_type": "code",
      "source": [
        "# read data\n",
        "df = pd.read_csv('data05_boston.csv')\n",
        "X, Y = df.iloc[:,:-1], df['medv']\n",
        "xtrain,xtest,ytrain,ytest = train_test_split(X,Y,test_size=0.33,random_state=0)"
      ],
      "metadata": {
        "id": "n94-peZBXxyi"
      },
      "execution_count": 5,
      "outputs": []
    },
    {
      "cell_type": "code",
      "source": [
        "# regression tree\n",
        "from sklearn.tree import DecisionTreeRegressor\n",
        "clf = DecisionTreeRegressor(max_leaf_nodes=15) # change max_leaf_nodes # None -> 15\n",
        "s1=clf.fit(xtrain,ytrain)\n",
        "s2=clf.score(xtrain,ytrain)\n",
        "s3=clf.score(xtest,ytest)\n",
        "print(s1, s2, s3)"
      ],
      "metadata": {
        "colab": {
          "base_uri": "https://localhost:8080/"
        },
        "id": "e6Q4O7gZX1pg",
        "outputId": "013c19d6-c4a0-4cdd-b5e9-299fcafd7d3d"
      },
      "execution_count": 9,
      "outputs": [
        {
          "output_type": "stream",
          "name": "stdout",
          "text": [
            "DecisionTreeRegressor(max_leaf_nodes=15) 0.904948834417056 0.7156774205616943\n"
          ]
        }
      ]
    },
    {
      "cell_type": "code",
      "source": [
        "# linear regression\n",
        "from sklearn.linear_model import LinearRegression\n",
        "lm = LinearRegression()\n",
        "lm.fit(xtrain,ytrain)\n",
        "lm.score(xtrain,ytrain)\n",
        "lm.score(xtest,ytest)"
      ],
      "metadata": {
        "colab": {
          "base_uri": "https://localhost:8080/"
        },
        "id": "WOmBm6blXJfK",
        "outputId": "5af98925-6383-4e8a-a526-afcc41937258"
      },
      "execution_count": 11,
      "outputs": [
        {
          "output_type": "execute_result",
          "data": {
            "text/plain": [
              "0.670579541257879"
            ]
          },
          "metadata": {},
          "execution_count": 11
        }
      ]
    },
    {
      "cell_type": "code",
      "source": [
        "# visualization\n",
        "from sklearn.tree import export_graphviz\n",
        "export_graphviz(clf,out_file='tree.dot', max_depth=None,\n",
        "                feature_names=xtrain.columns,\n",
        "                class_names=['setosa','versicolor','virginica'])\n",
        "# to visualize, use http://www.webgraphviz.com/ or other tools"
      ],
      "metadata": {
        "id": "lcdvoqm2YK_t"
      },
      "execution_count": 12,
      "outputs": []
    }
  ]
}